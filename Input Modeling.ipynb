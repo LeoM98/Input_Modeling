{
 "cells": [
  {
   "cell_type": "code",
   "execution_count": 233,
   "metadata": {},
   "outputs": [],
   "source": [
    "import matplotlib.pyplot as plt\n",
    "import scipy.stats as st\n",
    "from scipy.stats import norm\n",
    "import statsmodels.api as sm\n",
    "from sklearn import linear_model\n",
    "import warnings\n",
    "from sklearn.metrics import mean_squared_error, r2_score\n",
    "import numpy as np\n",
    "import re"
   ]
  },
  {
   "cell_type": "code",
   "execution_count": 234,
   "metadata": {},
   "outputs": [
    {
     "name": "stdout",
     "output_type": "stream",
     "text": [
      "DATASET\n",
      "\n",
      "[105.84  28.92  98.64  55.56 128.04  45.6   67.8  105.12  48.48  51.84\n",
      " 173.4   51.96  54.12  68.64  93.12  68.88  84.12  68.64  41.52 127.92\n",
      "  42.12  17.88  33.  ] \n",
      "\n"
     ]
    },
    {
     "data": {
      "image/png": "[encoded data removed]",
      "text/plain": [
       "<Figure size 432x288 with 1 Axes>"
      ]
     },
     "metadata": {},
     "output_type": "display_data"
    }
   ],
   "source": [
    "vector = []\n",
    "y = []\n",
    "\n",
    "def Archivo ():\n",
    "\n",
    "    data = open ('data.txt', 'r') #Apertura del archivo\n",
    "    for i in data.readlines(): #Recorrera todos los valores del archivo\n",
    "        vector.append(re.findall(r'[\\d]+[.][\\d]+',i))#Identificar todo aquello que sea numero\n",
    "    return np.array(vector,dtype=float)\n",
    "\n",
    "vector = Archivo() #Se guarda el procesado de la función\n",
    "y = vector[:,0]\n",
    "n = len(vector)\n",
    "\n",
    "\n",
    "eX = np.array([[i]for i in range(len(vector))])\n",
    "\n",
    "print (\"DATASET\\n\")\n",
    "print (y,\"\\n\")\n",
    "\n",
    "plt.scatter(eX, y, color = \"red\")\n",
    "plt.xlabel('EJE X')\n",
    "plt.title(\"DIAGRAMA DE DISPERSIÓN\")\n",
    "plt.ylabel('EJE Y')\n",
    "plt.show()\n",
    "\n",
    "def linearRegression ():\n",
    "\n",
    "    # Creo un modelo de regresión lineal\n",
    "    modelo = linear_model.LinearRegression()\n",
    "    # Entreno el modelo con los datos (X,Y)\n",
    "    modelo.fit(eX, y)\n",
    "    y_pred = modelo.predict(eX)\n",
    "\n",
    "\n",
    "    plt.scatter(eX, y, label = \"Datos\", color = \"red\")\n",
    "    plt.xlabel(\"EJE X\")\n",
    "    plt.ylabel(\"EJE Y\")\n",
    "    plt.title(\"REGRESIÓN LINEAL\")\n",
    "    plt.plot(eX, y_pred, color='yellow', linewidth = 3, label = \"Recta\")\n",
    "    plt.legend()\n",
    "    plt.show()\n",
    "\n",
    "    print(\"Intercepto \", modelo.intercept_)\n",
    "    print(\"Pendiente \", modelo.coef_)\n",
    "    print(\"Precisión del modelo: \", r2_score(y, y_pred))\n",
    "    print (\"\\n\")\n",
    "\n",
    "def ajuste():\n",
    "\n",
    "    media, desviacion = st.norm.fit(y)\n",
    "    d, pvalor = st.kstest(y,\"norm\",args=(media,desviacion))\n",
    "\n",
    "    print (\"\\n\")\n",
    "    # queremos confianza al 95%\n",
    "    if pvalor > 0.05:\n",
    "        print(\"p-valor: \", pvalor)\n",
    "        print(\"Hipotesis Nula\")\n",
    "    else:\n",
    "        print(\"p-valor: \", pvalor)\n",
    "        print(\"Hipotesis Alternativa\")\n",
    "\n",
    "\n",
    "def autocorrela():\n",
    "    print (\"CONJUNTO DE PUNTOS\\n\")\n",
    "    print (sm.graphics.tsa.acf(y))\n",
    "    sm.graphics.tsa.plot_pacf(y, lags = 9, alpha = 0.05)\n",
    "    plt.show()    "
   ]
  },
  {
   "cell_type": "code",
   "execution_count": 235,
   "metadata": {},
   "outputs": [],
   "source": [
    "distributions = [\n",
    "\n",
    "        \"norm\",            #Normal (Gaussian)\n",
    "        \"alpha\",           #Alpha\n",
    "        \"anglit\",          #Anglit\n",
    "        \"beta\",            #Beta\n",
    "        \"betaprime\",       #Beta Prime\n",
    "        \"bradford\",        #Bradford\n",
    "        \"burr\",            #Burr\n",
    "        \"cauchy\",          #Cauchy\n",
    "        \"chi2\",            #Chi-squared\n",
    "        \"cosine\",          #Cosine\n",
    "        \"dgamma\",          #Double Gamma\n",
    "        \"dweibull\",        #Double Weibull\n",
    "        \"expon\",           #Exponential\n",
    "        \"exponweib\",       #Exponentiated Weibull\n",
    "        \"exponpow\",        #Exponential Power\n",
    "        \"exponnorm\",\n",
    "        \"fatiguelife\",     #Fatigue Life (Birnbaum-Sanders)\n",
    "        \"foldcauchy\",      #Folded Cauchy\n",
    "        \"fisk\",            #Fisk\n",
    "        \"gamma\",           #Gamma\n",
    "        \"gausshyper\",      #Gauss Hypergeometric\n",
    "        \"genexpon\",        #Generalized Exponential\n",
    "        \"genextreme\",      #Generalized Extreme Value\n",
    "        \"gengamma\",        #Generalized gamma\n",
    "        \"genlogistic\",     #Generalized Logistic\n",
    "        \"genpareto\",       #Generalized Pareto\n",
    "        \"genhalflogistic\", #Generalized Half Logistic\n",
    "        \"gilbrat\",         #Gilbrat\n",
    "        \"gompertz\",        #Gompertz (Truncated Gumbel)\n",
    "        \"gumbel_l\",        #Left Sided Gumbel, etc.\n",
    "        \"gumbel_r\",        #Right Sided Gumbel\n",
    "        \"halfcauchy\",      #Half Cauchy\n",
    "        \"halflogistic\",    #Half Logistic\n",
    "        \"halfnorm\",        #Half Normal\n",
    "        \"hypsecant\",       #Hyperbolic Secant\n",
    "        \"invgamma\",        #Inverse Gamma\n",
    "        \"invweibull\",      #Inverse Weibull\n",
    "        \"johnsonsb\",       #Johnson SB\n",
    "        \"johnsonsu\",       #Johnson SU\n",
    "        \"laplace\",         #Laplace\n",
    "        \"logistic\",        #Logistic\n",
    "        \"loggamma\",        #Log-Gamma\n",
    "        \"loglaplace\",      #Log-Laplace (Log Double Exponential)\n",
    "        \"lognorm\",         #Log-Normal\n",
    "        \"lomax\",           #Lomax (Pareto of the second kind)\n",
    "        \"maxwell\",         #Maxwell\n",
    "        \"mielke\",          #Mielke's Beta-Kappa\n",
    "        \"nakagami\",        #Nakagami\n",
    "        \"ncx2\",            #Non-central chi-squared\n",
    "        \"ncf\",             #Non-central F\n",
    "        \"nct\",             #Non-central Student's T\n",
    "        \"pareto\",          #Pareto\n",
    "        \"powerlaw\",        #Power-function\n",
    "        \"powerlognorm\",\n",
    "        \"rdist\",           #R distribution\n",
    "        \"rayleigh\",        #Rayleigh\n",
    "        \"rice\",            #Rice\n",
    "        \"recipinvgauss\",   #Reciprocal Inverse Gaussian\n",
    "        \"semicircular\",    #Semicircular\n",
    "        \"t\",               #Student's T\n",
    "        \"triang\",          #Triangular\n",
    "        \"truncexpon\",      #Truncated Exponential\n",
    "        \"tukeylambda\",     #Tukey-Lambda\n",
    "        \"uniform\",         #Uniform\n",
    "        \"wald\",            #Wald\n",
    "        \"weibull_min\",     #Minimum Weibull (see Frechet)\n",
    "        \"kstwobign\"        #Kolmogorov-Smirnov two-sided test for Large N\n",
    "    ]  "
   ]
  },
  {
   "cell_type": "code",
   "execution_count": 236,
   "metadata": {},
   "outputs": [],
   "source": [
    "def distribuciones(data):\n",
    "    \n",
    "    dist_results = []\n",
    "    for dist_name in distributions:\n",
    "        \n",
    "        warnings.filterwarnings('ignore')\n",
    "        dist = getattr(st, dist_name)\n",
    "        param = dist.fit(data)\n",
    "        D, p = st.kstest(data, dist_name, args=param);\n",
    "        dist_results.append((dist_name,p))\n",
    "    aux_p = 0\n",
    "    aux_dist = \"\"\n",
    "    print(\"RESULTS:\\n\")\n",
    "    for dist in dist_results:\n",
    "        if(aux_p<dist[1]):\n",
    "            aux_p = dist[1]\n",
    "            aux_dist = dist[0]\n",
    "        \n",
    "    print(\"\\nThe distribution associated with the dataset is {0} with p value {1}\".format(aux_dist,aux_p))\n",
    "    \n",
    "    if aux_p > 0.05:    \n",
    "        print(\"Hipotesis Nula\")\n",
    "    else:\n",
    "        print(\"Hipotesis Alternativa\")"
   ]
  },
  {
   "cell_type": "code",
   "execution_count": 237,
   "metadata": {},
   "outputs": [
    {
     "data": {
      "image/png": "[encoded data removed]",
      "text/plain": [
       "<Figure size 432x288 with 1 Axes>"
      ]
     },
     "metadata": {},
     "output_type": "display_data"
    },
    {
     "name": "stdout",
     "output_type": "stream",
     "text": [
      "Intercepto  86.61521739130436\n",
      "Pendiente  [-1.30826087]\n",
      "Precisión del modelo:  0.056020352022951525\n",
      "\n",
      "\n",
      "CONJUNTO DE PUNTOS\n",
      "\n",
      "[ 1.         -0.29748899 -0.11323706  0.08551826  0.10229525 -0.12170118\n",
      "  0.14808661 -0.0596593  -0.08237838  0.07859561  0.10686717 -0.23448244\n",
      "  0.0237962   0.00513266 -0.08727942  0.08570029 -0.04023364  0.03858828\n",
      " -0.17862745  0.07742854  0.00987205 -0.0041475  -0.04264557]\n"
     ]
    },
    {
     "data": {
      "image/png": "[encoded data removed]",
      "text/plain": [
       "<Figure size 432x288 with 1 Axes>"
      ]
     },
     "metadata": {},
     "output_type": "display_data"
    },
    {
     "name": "stdout",
     "output_type": "stream",
     "text": [
      "\n",
      "\n",
      "p-valor:  0.34470013292966417\n",
      "Hipotesis Nula\n",
      "RESULTS:\n",
      "\n",
      "\n",
      "The distribution associated with the dataset is exponnorm with p value 0.9975232893852578\n",
      "Hipotesis Nula\n"
     ]
    }
   ],
   "source": [
    "if __name__ == '__main__':\n",
    "    \n",
    "    #Regresion lineal\n",
    "    linearRegression()\n",
    "    #Grafica de autocorrelación\n",
    "    autocorrela()\n",
    "    #Ajuste\n",
    "    ajuste()\n",
    "    distribuciones(y)"
   ]
  }
 ],
 "metadata": {
  "kernelspec": {
   "display_name": "Python 3",
   "language": "python",
   "name": "python3"
  },
  "language_info": {
   "codemirror_mode": {
    "name": "ipython",
    "version": 3
   },
   "file_extension": ".py",
   "mimetype": "text/x-python",
   "name": "python",
   "nbconvert_exporter": "python",
   "pygments_lexer": "ipython3",
   "version": "3.6.5"
  }
 },
 "nbformat": 4,
 "nbformat_minor": 2
}
